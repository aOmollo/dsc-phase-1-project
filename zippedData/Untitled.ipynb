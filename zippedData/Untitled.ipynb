{
 "cells": [
  {
   "cell_type": "code",
   "execution_count": 1,
   "metadata": {},
   "outputs": [
    {
     "name": "stdout",
     "output_type": "stream",
     "text": [
      " Volume in drive C has no label.\n",
      " Volume Serial Number is E2A6-39CF\n",
      "\n",
      " Directory of C:\\Users\\hp\\Desktop\\Milestone\\dsc-phase-1-project\\zippedData\n",
      "\n",
      "10/31/2023  07:59 PM    <DIR>          .\n",
      "10/31/2023  07:59 PM    <DIR>          ..\n",
      "10/31/2023  07:59 PM    <DIR>          .ipynb_checkpoints\n",
      "10/31/2023  07:21 PM            53,544 bom.movie_gross.csv.gz\n",
      "10/31/2023  07:21 PM        18,070,960 imdb.name.basics.csv.gz\n",
      "10/31/2023  07:21 PM         5,599,979 imdb.title.akas.csv.gz\n",
      "10/31/2023  07:21 PM         3,459,897 imdb.title.basics.csv.gz\n",
      "10/31/2023  07:21 PM         1,898,523 imdb.title.crew.csv.gz\n",
      "10/31/2023  07:21 PM        12,287,583 imdb.title.principals.csv.gz\n",
      "10/31/2023  07:21 PM           539,530 imdb.title.ratings.csv.gz\n",
      "10/31/2023  07:21 PM           498,202 rt.movie_info.tsv.gz\n",
      "10/31/2023  07:21 PM         3,402,194 rt.reviews.tsv.gz\n",
      "10/31/2023  07:21 PM           827,840 tmdb.movies.csv.gz\n",
      "10/31/2023  07:21 PM           153,218 tn.movie_budgets.csv.gz\n",
      "10/31/2023  07:59 PM                72 Untitled.ipynb\n",
      "              12 File(s)     46,791,542 bytes\n",
      "               3 Dir(s)  15,101,198,336 bytes free\n"
     ]
    }
   ],
   "source": []
  },
  {
   "cell_type": "code",
   "execution_count": null,
   "metadata": {},
   "outputs": [],
   "source": []
  }
 ],
 "metadata": {
  "kernelspec": {
   "display_name": "Python (learn-env)",
   "language": "python",
   "name": "learn-env"
  },
  "language_info": {
   "codemirror_mode": {
    "name": "ipython",
    "version": 3
   },
   "file_extension": ".py",
   "mimetype": "text/x-python",
   "name": "python",
   "nbconvert_exporter": "python",
   "pygments_lexer": "ipython3",
   "version": "3.8.5"
  }
 },
 "nbformat": 4,
 "nbformat_minor": 4
}
